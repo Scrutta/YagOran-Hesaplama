{
  "nbformat": 4,
  "nbformat_minor": 0,
  "metadata": {
    "colab": {
      "provenance": []
    },
    "kernelspec": {
      "name": "python3",
      "display_name": "Python 3"
    },
    "language_info": {
      "name": "python"
    }
  },
  "cells": [
    {
      "cell_type": "code",
      "source": [
        "cinsiyet=(input('Cinsiyetiniz: '))\n",
        "kilo=float(input('Kilonuz: '))\n",
        "boy=float(input('Boyunuz (örn: 1.75): '))\n",
        "yas=float(input('Yaşınız: '))\n",
        "bmi=kilo/boy**2\n",
        "print('BMİ Değeriniz: ', bmi)\n",
        "if cinsiyet=='erkek' or 'Erkek':\n",
        "  yagman=(1.20*bmi)+(0.23*yas)-16.2\n",
        "  print('Yağ Oranınız: ', yagman)\n",
        "elif cinsiyet=='kız' or 'Kız' or 'kadın' or 'Kadın':\n",
        "  yagwoman=(1.20*bmi)+(0.23*yas)-5.4\n",
        "  print('Yağ Oranınız: ', yagwoman)"
      ],
      "metadata": {
        "colab": {
          "base_uri": "https://localhost:8080/"
        },
        "id": "dkyljWFwAERa",
        "outputId": "eb9bd892-b80c-401b-8f22-d62e6d160904"
      },
      "execution_count": null,
      "outputs": [
        {
          "output_type": "stream",
          "name": "stdout",
          "text": [
            "Cinsiyetiniz: erkek\n",
            "Kilonuz: 93\n",
            "Boyunuz (örn: 1.75): 1.80\n",
            "Yaşınız: 15\n",
            "BMİ Değeriniz:  28.703703703703702\n",
            "21.694444444444446\n"
          ]
        }
      ]
    }
  ]
}